{
  "nbformat": 4,
  "nbformat_minor": 0,
  "metadata": {
    "colab": {
      "provenance": [],
      "gpuType": "T4"
    },
    "kernelspec": {
      "name": "python3",
      "display_name": "Python 3"
    },
    "language_info": {
      "name": "python"
    },
    "accelerator": "GPU"
  },
  "cells": [
    {
      "cell_type": "code",
      "execution_count": null,
      "metadata": {
        "colab": {
          "base_uri": "https://localhost:8080/"
        },
        "id": "dnJqUGY2ML7-",
        "outputId": "4031d68f-9713-466b-a111-d16413b0c744"
      },
      "outputs": [
        {
          "output_type": "stream",
          "name": "stdout",
          "text": [
            "/content\n",
            "Modules imported \n",
            "\n"
          ]
        }
      ],
      "source": [
        "import os\n",
        "import gc\n",
        "import numpy as np\n",
        "import pandas as pd\n",
        "\n",
        "import seaborn as sns\n",
        "import matplotlib.pyplot as plt\n",
        "plt.style.use('ggplot')\n",
        "\n",
        "import warnings\n",
        "warnings.filterwarnings('ignore')\n",
        "\n",
        "import tensorflow as tf\n",
        "from keras import models, regularizers, layers, optimizers, losses, metrics\n",
        "from keras.models import Sequential\n",
        "from keras.layers import Dense, ELU, BatchNormalization\n",
        "from keras.utils import to_categorical # np_utils\n",
        "from keras import initializers\n",
        "# from keras.losses import SparseCategoricalCrossentropy\n",
        "\n",
        "\n",
        "from keras.datasets import reuters\n",
        "\n",
        "print(os.getcwd())\n",
        "print(\"Modules imported \\n\")"
      ]
    },
    {
      "cell_type": "markdown",
      "source": [
        "# Data ingestion"
      ],
      "metadata": {
        "id": "X5z-4v4I0kjF"
      }
    },
    {
      "cell_type": "code",
      "source": [
        "NUM_WORDS=12_000"
      ],
      "metadata": {
        "id": "2_KAudl1g92_"
      },
      "execution_count": null,
      "outputs": []
    },
    {
      "cell_type": "code",
      "source": [
        "(train_data, train_labels), (test_data, test_labels) = reuters.load_data(num_words=NUM_WORDS)"
      ],
      "metadata": {
        "id": "L00Rsdi3MbIC",
        "colab": {
          "base_uri": "https://localhost:8080/"
        },
        "outputId": "d90ab2ce-9e95-48b8-e9b8-e088d0932c84"
      },
      "execution_count": null,
      "outputs": [
        {
          "output_type": "stream",
          "name": "stdout",
          "text": [
            "Downloading data from https://storage.googleapis.com/tensorflow/tf-keras-datasets/reuters.npz\n",
            "2110848/2110848 [==============================] - 0s 0us/step\n"
          ]
        }
      ]
    },
    {
      "cell_type": "code",
      "source": [
        "print(\"train_data \", train_data.shape)\n",
        "print(\"train_labels \", train_labels.shape)\n",
        "\n",
        "print(\"test_data \", test_data.shape)\n",
        "print(\"test_labels \", test_labels.shape)"
      ],
      "metadata": {
        "colab": {
          "base_uri": "https://localhost:8080/"
        },
        "id": "QjaUBeUsMnEc",
        "outputId": "bbc3a295-8f84-4ee0-b656-47305bb828c9"
      },
      "execution_count": null,
      "outputs": [
        {
          "output_type": "stream",
          "name": "stdout",
          "text": [
            "train_data  (8982,)\n",
            "train_labels  (8982,)\n",
            "test_data  (2246,)\n",
            "test_labels  (2246,)\n"
          ]
        }
      ]
    },
    {
      "cell_type": "markdown",
      "source": [
        "# Inspection of article and it's label"
      ],
      "metadata": {
        "id": "HEh2idTcj5NK"
      }
    },
    {
      "cell_type": "code",
      "source": [
        "# Reverse dictionary to see words instead of integers\n",
        "# Note that the indices are offset by 3 because 0, 1, and 2 are reserved indices for “padding,” “start of sequence,” and “unknown.”\n",
        "\n",
        "article_num = 207\n",
        "\n",
        "word_index = reuters.get_word_index()\n",
        "reverse_word_index = dict([(value, key) for (key, value) in word_index.items()])\n",
        "# decoded_newswire = ' '.join([reverse_word_index.get(i - 3, '?') for i in train_data[article_num]])\n",
        "def decoded_news(article_number):\n",
        "  decoded_article = ' '.join([reverse_word_index.get(i - 3, '?') for i in train_data[article_number]])\n",
        "  return decoded_article\n",
        "\n",
        "decoded_labels = reuters.get_label_names()\n",
        "print(decoded_news(article_num), \"\\n\")\n",
        "print(train_labels[article_num])\n",
        "print(decoded_labels[train_labels[article_num]])"
      ],
      "metadata": {
        "colab": {
          "base_uri": "https://localhost:8080/"
        },
        "id": "73M9k-XmMpBt",
        "outputId": "745c50ed-554b-44db-9b7e-2b2a9bc96404"
      },
      "execution_count": null,
      "outputs": [
        {
          "output_type": "stream",
          "name": "stdout",
          "text": [
            "Downloading data from https://storage.googleapis.com/tensorflow/tf-keras-datasets/reuters_word_index.json\n",
            "550378/550378 [==============================] - 0s 0us/step\n",
            "? the u s agriculture department's report on export markets for u s grain ? for release today has been delayed until wednesday april 1 a department spokeswoman said no reason was given for the delay in releasing the monthly report reuter 3 \n",
            "\n",
            "1\n",
            "grain\n"
          ]
        }
      ]
    },
    {
      "cell_type": "code",
      "source": [
        "print(decoded_labels)"
      ],
      "metadata": {
        "colab": {
          "base_uri": "https://localhost:8080/"
        },
        "id": "2w3YZ95Pjmh-",
        "outputId": "3b2940d6-df30-4bdb-8bcb-8d622951f580"
      },
      "execution_count": null,
      "outputs": [
        {
          "output_type": "stream",
          "name": "stdout",
          "text": [
            "('cocoa', 'grain', 'veg-oil', 'earn', 'acq', 'wheat', 'copper', 'housing', 'money-supply', 'coffee', 'sugar', 'trade', 'reserves', 'ship', 'cotton', 'carcass', 'crude', 'nat-gas', 'cpi', 'money-fx', 'interest', 'gnp', 'meal-feed', 'alum', 'oilseed', 'gold', 'tin', 'strategic-metal', 'livestock', 'retail', 'ipi', 'iron-steel', 'rubber', 'heat', 'jobs', 'lei', 'bop', 'zinc', 'orange', 'pet-chem', 'dlr', 'gas', 'silver', 'wpi', 'hog', 'lead')\n"
          ]
        }
      ]
    },
    {
      "cell_type": "code",
      "source": [
        "# VECTORIZE function\n",
        "\n",
        "def vectorize_sequences(sequences, dimension=NUM_WORDS):\n",
        "    results = np.zeros((len(sequences), dimension))\n",
        "    for i, sequence in enumerate(sequences):\n",
        "        results[i, sequence] = 1.\n",
        "    return results"
      ],
      "metadata": {
        "id": "6bVEymJTM6Pm"
      },
      "execution_count": null,
      "outputs": []
    },
    {
      "cell_type": "code",
      "source": [
        "# Vectorize and Normalize train and test to tensors with 10k columns\n",
        "\n",
        "x_train = vectorize_sequences(train_data)\n",
        "x_test = vectorize_sequences(test_data)\n",
        "\n",
        "print(\"x_train \", x_train.shape)\n",
        "print(\"x_test \", x_test.shape)"
      ],
      "metadata": {
        "id": "zL8RPoGHNEFt",
        "outputId": "8a3c1a40-85bc-4cd9-da96-b261d94e54ba",
        "colab": {
          "base_uri": "https://localhost:8080/"
        }
      },
      "execution_count": null,
      "outputs": [
        {
          "output_type": "stream",
          "name": "stdout",
          "text": [
            "x_train  (8982, 12000)\n",
            "x_test  (2246, 12000)\n"
          ]
        }
      ]
    },
    {
      "cell_type": "markdown",
      "source": [
        "### First dimension of shape preserved between loaded and vectorized data\n"
      ],
      "metadata": {
        "id": "OQEMrdV2bzFh"
      }
    },
    {
      "cell_type": "code",
      "source": [
        "one_hot_train_labels = to_categorical(train_labels)\n",
        "one_hot_test_labels = to_categorical(test_labels)\n",
        "\n",
        "print(\"one_hot_train_labels \", one_hot_train_labels.shape)\n",
        "print(\"one_hot_test_labels \", one_hot_test_labels.shape)\n"
      ],
      "metadata": {
        "id": "au1Mt3FTNHOo",
        "colab": {
          "base_uri": "https://localhost:8080/"
        },
        "outputId": "d6c97da9-42d9-4cd9-c0d1-e0b2d3e216cd"
      },
      "execution_count": null,
      "outputs": [
        {
          "output_type": "stream",
          "name": "stdout",
          "text": [
            "one_hot_train_labels  (8982, 46)\n",
            "one_hot_test_labels  (2246, 46)\n"
          ]
        }
      ]
    },
    {
      "cell_type": "markdown",
      "source": [
        "### Balancing classes in this dataset is not feasible as it cannot be done on unvectorized data and trying to balance the vectorized data for 46 classes results in memory usage going through the roof"
      ],
      "metadata": {
        "id": "F-JGpXtq-RoM"
      }
    },
    {
      "cell_type": "code",
      "source": [
        "# from imblearn.over_sampling import SMOTE\n",
        "# oversample = SMOTE()\n",
        "# x_train, one_hot_train_labels = oversample.fit_resample(x_train, one_hot_train_labels)"
      ],
      "metadata": {
        "id": "oqf_LVai8Y_A"
      },
      "execution_count": null,
      "outputs": []
    },
    {
      "cell_type": "code",
      "source": [
        "print(\"train labels sample\", one_hot_train_labels[123,:])"
      ],
      "metadata": {
        "colab": {
          "base_uri": "https://localhost:8080/"
        },
        "id": "iuMeKXLwOZ_m",
        "outputId": "3617f678-028c-4b2a-8a03-461019f7817d"
      },
      "execution_count": null,
      "outputs": [
        {
          "output_type": "stream",
          "name": "stdout",
          "text": [
            "train labels sample [0. 1. 0. 0. 0. 0. 0. 0. 0. 0. 0. 0. 0. 0. 0. 0. 0. 0. 0. 0. 0. 0. 0. 0.\n",
            " 0. 0. 0. 0. 0. 0. 0. 0. 0. 0. 0. 0. 0. 0. 0. 0. 0. 0. 0. 0. 0. 0.]\n"
          ]
        }
      ]
    },
    {
      "cell_type": "code",
      "source": [
        "# x_val = x_train[:1000]\n",
        "# partial_x_train = x_train[1000:]\n",
        "# y_val = one_hot_train_labels[:1000]\n",
        "# partial_y_train = one_hot_train_labels[1000:]\n",
        "\n",
        "from sklearn.model_selection import train_test_split\n",
        "partial_x_train, x_val, partial_y_train, y_val = train_test_split(x_train, one_hot_train_labels, test_size=0.115, random_state=42)\n",
        "\n",
        "print(\"x_val \", x_val.shape)\n",
        "print(\"y_val \", y_val.shape)\n",
        "\n",
        "print(\"partial_x_train \", partial_x_train.shape)\n",
        "print(\"partial_y_train \", partial_y_train.shape)"
      ],
      "metadata": {
        "colab": {
          "base_uri": "https://localhost:8080/"
        },
        "id": "rBEnaFCIOPJx",
        "outputId": "cef044bb-1a1f-43e0-c266-bd0a383443ee"
      },
      "execution_count": null,
      "outputs": [
        {
          "output_type": "stream",
          "name": "stdout",
          "text": [
            "x_val  (1033, 12000)\n",
            "y_val  (1033, 46)\n",
            "partial_x_train  (7949, 12000)\n",
            "partial_y_train  (7949, 46)\n"
          ]
        }
      ]
    },
    {
      "cell_type": "markdown",
      "source": [
        "# Datasets label distribution plot"
      ],
      "metadata": {
        "id": "XidIS4R2UHrH"
      }
    },
    {
      "cell_type": "code",
      "source": [
        "\n",
        "# Divide column-wise sum by the number of rows\n",
        "training_dist = np.sum(partial_y_train, axis=0) / partial_y_train.shape[0] * 100\n",
        "val_dist = np.sum(y_val, axis=0) / y_val.shape[0] * 100\n",
        "# Create bar plot\n",
        "plt.figure(figsize=(14, 6))  # Adjust the figure size if needed\n",
        "bar_width = 0.35\n",
        "plt.bar(np.arange(len(training_dist)), training_dist, width=bar_width, label=\"train\")\n",
        "plt.bar(np.arange(len(val_dist))+bar_width, val_dist, alpha=0.5, width=bar_width, label=\"val\")\n",
        "plt.xlabel('Labels')\n",
        "plt.ylabel('Label % in dataset')\n",
        "plt.title('Labels distribution in training and validation datasets')\n",
        "plt.legend()\n",
        "plt.xticks(np.arange(len(training_dist)) + bar_width / 2, np.arange(len(training_dist)) + 1)\n",
        "plt.show()"
      ],
      "metadata": {
        "colab": {
          "base_uri": "https://localhost:8080/",
          "height": 569
        },
        "id": "qeKfwhZTRWuT",
        "outputId": "969e7bbe-eaa8-430e-809f-37e0fd7bd734"
      },
      "execution_count": null,
      "outputs": [
        {
          "output_type": "display_data",
          "data": {
            "text/plain": [
              "<Figure size 1400x600 with 1 Axes>"
            ],
            "image/png": "[encoded data removed]"
          },
          "metadata": {}
        }
      ]
    },
    {
      "cell_type": "markdown",
      "source": [
        "### Whether the validation and training datasets were hard-split or split using the function from sklearn the distribution in both cases is preserved"
      ],
      "metadata": {
        "id": "ij8EwabAY5rf"
      }
    },
    {
      "cell_type": "code",
      "source": [
        "# Calculate label distributions\n",
        "def get_label_distribution(y):\n",
        "    unique, counts = np.unique(y, return_counts=True)\n",
        "    return dict(zip(unique, counts))\n",
        "\n",
        "train_label_distribution = get_label_distribution(partial_y_train)\n",
        "val_label_distribution = get_label_distribution(y_val)\n",
        "\n",
        "# Display label distributions\n",
        "print(\"Training label distribution:\", train_label_distribution)\n",
        "print(\"Validation label distribution:\", val_label_distribution)\n",
        "\n",
        "# Check for stratification equality\n",
        "stratification_equal = all(train_label_distribution[label] / len(partial_y_train) == val_label_distribution[label] / len(y_val)\n",
        "                          for label in train_label_distribution.keys())\n",
        "\n",
        "if stratification_equal:\n",
        "    print(\"Stratification is equal between training and validation datasets.\")\n",
        "else:\n",
        "    print(\"Stratification differs between training and validation datasets.\")"
      ],
      "metadata": {
        "colab": {
          "base_uri": "https://localhost:8080/"
        },
        "id": "Umpfq_zHfQau",
        "outputId": "4722acda-bfcd-4462-d74c-6ca516b3b5a0"
      },
      "execution_count": null,
      "outputs": [
        {
          "output_type": "stream",
          "name": "stdout",
          "text": [
            "Training label distribution: {0.0: 357705, 1.0: 7949}\n",
            "Validation label distribution: {0.0: 46485, 1.0: 1033}\n",
            "Stratification is equal between training and validation datasets.\n"
          ]
        }
      ]
    },
    {
      "cell_type": "code",
      "source": [
        "# Calculate statistical properties for arr1\n",
        "mean_arr1 = np.mean(training_dist)\n",
        "variance_arr1 = np.var(training_dist)\n",
        "\n",
        "# Calculate statistical properties for arr2\n",
        "mean_arr2 = np.mean(val_dist)\n",
        "variance_arr2 = np.var(val_dist)\n",
        "\n",
        "# Compare statistical properties\n",
        "mean_equal = np.isclose(mean_arr1, mean_arr2)\n",
        "variance_equal = np.isclose(variance_arr1, variance_arr2)\n",
        "\n",
        "print(\"Mean Equal:\", mean_equal, mean_arr1, mean_arr2)\n",
        "print(\"Variance Equal:\", variance_equal, variance_arr1, variance_arr2)"
      ],
      "metadata": {
        "colab": {
          "base_uri": "https://localhost:8080/"
        },
        "id": "FZO15DaDWnEG",
        "outputId": "dee7e6ea-d340-4ebc-89a7-73b456e23973"
      },
      "execution_count": null,
      "outputs": [
        {
          "output_type": "stream",
          "name": "stdout",
          "text": [
            "Mean Equal: True 2.1739128 2.173913\n",
            "Variance Equal: False 35.0976 36.256184\n"
          ]
        }
      ]
    },
    {
      "cell_type": "markdown",
      "source": [
        "# Model"
      ],
      "metadata": {
        "id": "kk9o_sybP1DO"
      }
    },
    {
      "cell_type": "code",
      "source": [
        "model = models.Sequential()\n",
        "model.add(layers.Dense(512, kernel_regularizer=regularizers.l1(0.001), \\\n",
        "                       activation='elu', input_shape=(NUM_WORDS,), kernel_initializer=tf.keras.initializers.HeNormal()))\n",
        "# model.add(layers.Dropout(0.4))\n",
        "# model.add(BatchNormalization())\n",
        "model.add(layers.Dense(256, kernel_regularizer=regularizers.l1(0.001), \\\n",
        "                       activation='elu', kernel_initializer=tf.keras.initializers.HeNormal()))\n",
        "# model.add(layers.Dropout(0.2))\n",
        "# model.add(BatchNormalization())\n",
        "model.add(layers.Dense(128, kernel_regularizer=regularizers.l1(0.001), activation='elu', kernel_initializer=tf.keras.initializers.HeNormal()))\n",
        "model.add(layers.Dense(46, activation='softmax'))\n",
        "model.summary()\n",
        "\n",
        "\n",
        "\"\"\"\n",
        "Also tried:\n",
        "- adding more layers\n",
        "- changing activation functions in hidden layers\n",
        "- no kernel initializer\n",
        "- more and neurons in each layer\n",
        "- batch normalization\n",
        "- dropout\n",
        "\n",
        "Settled on this design although it's probably not the best performing but lightweight\n",
        "\n",
        "\"\"\""
      ],
      "metadata": {
        "colab": {
          "base_uri": "https://localhost:8080/",
          "height": 348
        },
        "id": "Ua_FzDUHPAkM",
        "outputId": "0da6b5f5-cca9-47bb-a776-5d04778a4b24"
      },
      "execution_count": null,
      "outputs": [
        {
          "output_type": "stream",
          "name": "stdout",
          "text": [
            "Model: \"sequential\"\n",
            "_________________________________________________________________\n",
            " Layer (type)                Output Shape              Param #   \n",
            "=================================================================\n",
            " dense (Dense)               (None, 512)               6144512   \n",
            "                                                                 \n",
            " dense_1 (Dense)             (None, 256)               131328    \n",
            "                                                                 \n",
            " dense_2 (Dense)             (None, 128)               32896     \n",
            "                                                                 \n",
            " dense_3 (Dense)             (None, 46)                5934      \n",
            "                                                                 \n",
            "=================================================================\n",
            "Total params: 6314670 (24.09 MB)\n",
            "Trainable params: 6314670 (24.09 MB)\n",
            "Non-trainable params: 0 (0.00 Byte)\n",
            "_________________________________________________________________\n"
          ]
        },
        {
          "output_type": "execute_result",
          "data": {
            "text/plain": [
              "\"\\nAlso tried:\\n- adding more layers\\n- changing activation functions in hidden layers\\n- no kernel initializer\\n- more and neurons in each layer\\n- batch normalization\\n- dropout \\n\\nSettled on this design although it's probably not the best performing but lightweight\\n\\n\""
            ],
            "application/vnd.google.colaboratory.intrinsic+json": {
              "type": "string"
            }
          },
          "metadata": {},
          "execution_count": 16
        }
      ]
    },
    {
      "cell_type": "markdown",
      "source": [
        "# Model training"
      ],
      "metadata": {
        "id": "5F2FbYKJP3ma"
      }
    },
    {
      "cell_type": "code",
      "source": [
        "NumEpochs = 10 # 40 # 60 gave signs of overfitting\n",
        "BatchSize = 512 # tried different batchsizes based on first layer input\n",
        "\n",
        "model.compile(optimizer='adam',loss='categorical_crossentropy', metrics=['accuracy']) # RMSProp gave similar results\n",
        "# sparse_caterogical_crossentropy didn't work because of the labels data being\n",
        "# encoded by one-hot encoder: https://tinyurl.com/SparseCaterogicalCrossEntropy\n",
        "history = model.fit(partial_x_train, partial_y_train, epochs=NumEpochs, batch_size=BatchSize, validation_data=(x_val, y_val))\n",
        "\n",
        "results = model.evaluate(x_val, y_val)\n",
        "print(\"_\"*100)\n",
        "print(\"Validation Loss and Accuracy\")\n",
        "print(\"results \", results)\n",
        "\n",
        "history_dict = history.history\n",
        "history_dict.keys()"
      ],
      "metadata": {
        "colab": {
          "base_uri": "https://localhost:8080/"
        },
        "id": "9d_pfP2KPcqz",
        "outputId": "1fea3275-6f14-4016-e6fd-26e324ee5d30"
      },
      "execution_count": null,
      "outputs": [
        {
          "output_type": "stream",
          "name": "stdout",
          "text": [
            "Epoch 1/10\n",
            "16/16 [==============================] - 11s 54ms/step - loss: 46.1709 - accuracy: 0.5750 - val_loss: 22.7577 - val_accuracy: 0.7018\n",
            "Epoch 2/10\n",
            "16/16 [==============================] - 0s 29ms/step - loss: 16.4161 - accuracy: 0.7086 - val_loss: 12.2226 - val_accuracy: 0.7096\n",
            "Epoch 3/10\n",
            "16/16 [==============================] - 0s 30ms/step - loss: 10.0793 - accuracy: 0.7066 - val_loss: 8.2731 - val_accuracy: 0.6912\n",
            "Epoch 4/10\n",
            "16/16 [==============================] - 0s 29ms/step - loss: 7.2970 - accuracy: 0.7000 - val_loss: 6.4191 - val_accuracy: 0.7067\n",
            "Epoch 5/10\n",
            "16/16 [==============================] - 0s 28ms/step - loss: 5.8570 - accuracy: 0.7020 - val_loss: 5.3243 - val_accuracy: 0.7047\n",
            "Epoch 6/10\n",
            "16/16 [==============================] - 0s 28ms/step - loss: 4.9244 - accuracy: 0.7071 - val_loss: 4.5554 - val_accuracy: 0.7009\n",
            "Epoch 7/10\n",
            "16/16 [==============================] - 0s 29ms/step - loss: 4.2403 - accuracy: 0.7060 - val_loss: 3.9696 - val_accuracy: 0.7057\n",
            "Epoch 8/10\n",
            "16/16 [==============================] - 0s 27ms/step - loss: 3.7205 - accuracy: 0.7156 - val_loss: 3.5336 - val_accuracy: 0.7135\n",
            "Epoch 9/10\n",
            "16/16 [==============================] - 0s 28ms/step - loss: 3.3325 - accuracy: 0.7217 - val_loss: 3.2106 - val_accuracy: 0.7115\n",
            "Epoch 10/10\n",
            "16/16 [==============================] - 0s 27ms/step - loss: 3.0422 - accuracy: 0.7229 - val_loss: 2.9739 - val_accuracy: 0.7154\n",
            "33/33 [==============================] - 0s 5ms/step - loss: 2.9739 - accuracy: 0.7154\n",
            "____________________________________________________________________________________________________\n",
            "Validation Loss and Accuracy\n",
            "results  [2.9739112854003906, 0.7153920531272888]\n"
          ]
        },
        {
          "output_type": "execute_result",
          "data": {
            "text/plain": [
              "dict_keys(['loss', 'accuracy', 'val_loss', 'val_accuracy'])"
            ]
          },
          "metadata": {},
          "execution_count": 17
        }
      ]
    },
    {
      "cell_type": "markdown",
      "source": [
        "# Loss function plot for training and validation datasets"
      ],
      "metadata": {
        "id": "-dR4PU2cP7Ow"
      }
    },
    {
      "cell_type": "code",
      "source": [
        "plt.clf()\n",
        "loss = history.history['loss']\n",
        "val_loss = history.history['val_loss']\n",
        "epochs = range(1, len(loss) + 1)\n",
        "plt.plot(epochs, loss, 'bo', label='Training loss')\n",
        "plt.plot(epochs, val_loss, 'g', label='Validation loss')\n",
        "plt.title('Training and validation loss')\n",
        "plt.xlabel('Epochs')\n",
        "plt.ylabel('Loss')\n",
        "plt.legend()\n",
        "plt.show()"
      ],
      "metadata": {
        "colab": {
          "base_uri": "https://localhost:8080/",
          "height": 477
        },
        "id": "f4NyjGxlPhaV",
        "outputId": "3a205814-d3b5-4af8-87ad-c68df168e056"
      },
      "execution_count": null,
      "outputs": [
        {
          "output_type": "display_data",
          "data": {
            "text/plain": [
              "<Figure size 640x480 with 1 Axes>"
            ],
            "image/png": "[encoded data removed]"
          },
          "metadata": {}
        }
      ]
    },
    {
      "cell_type": "markdown",
      "source": [
        "# Accuracy plot for training and validation datasets"
      ],
      "metadata": {
        "id": "L2QCmnvsQG5O"
      }
    },
    {
      "cell_type": "code",
      "source": [
        "plt.clf()\n",
        "acc = history.history['accuracy']\n",
        "val_acc = history.history['val_accuracy']\n",
        "plt.plot(epochs, acc, 'bo', label='Training acc')\n",
        "plt.plot(epochs, val_acc, 'g', label='Validation acc')\n",
        "plt.title('Training and validation accuracy')\n",
        "plt.xlabel('Epochs')\n",
        "plt.ylabel('Accuracy')\n",
        "plt.legend()\n",
        "plt.show()\n"
      ],
      "metadata": {
        "colab": {
          "base_uri": "https://localhost:8080/",
          "height": 477
        },
        "id": "S1G9cIW_QQdM",
        "outputId": "e8c23da8-e8c3-4631-b24a-40b216540924"
      },
      "execution_count": null,
      "outputs": [
        {
          "output_type": "display_data",
          "data": {
            "text/plain": [
              "<Figure size 640x480 with 1 Axes>"
            ],
            "image/png": "[encoded data removed]"
          },
          "metadata": {}
        }
      ]
    },
    {
      "cell_type": "markdown",
      "source": [
        "# Model evaluation"
      ],
      "metadata": {
        "id": "WEBx0QCrbFja"
      }
    },
    {
      "cell_type": "code",
      "source": [
        "results = model.evaluate(x_test, one_hot_test_labels)\n",
        "print(f\"Test loss {results[0]:.4f}, test accuracy {results[1]:.4f} \")"
      ],
      "metadata": {
        "colab": {
          "base_uri": "https://localhost:8080/"
        },
        "id": "TBM2GQgmQUk9",
        "outputId": "d6b5a710-74c2-4ed6-f7fe-02d9cc0c8844"
      },
      "execution_count": null,
      "outputs": [
        {
          "output_type": "stream",
          "name": "stdout",
          "text": [
            "71/71 [==============================] - 0s 6ms/step - loss: 3.0149 - accuracy: 0.7057\n",
            "Test loss 3.0149, test accuracy 0.7057 \n"
          ]
        }
      ]
    },
    {
      "cell_type": "markdown",
      "source": [
        "# Manual prediction inspection"
      ],
      "metadata": {
        "id": "XnuZWxhybASQ"
      }
    },
    {
      "cell_type": "code",
      "source": [
        "predictions = model.predict(x_test)\n",
        "# Each entry in predictions is a vector of length 46\n",
        "print(predictions[123].shape)\n",
        "\n",
        "# The coefficients in this vector sum to 1:\n",
        "print(np.sum(predictions[123]))\n",
        "\n",
        "# The largest entry is the predicted class — the class with the highest probability:\n",
        "print(np.argmax(predictions[123]))"
      ],
      "metadata": {
        "colab": {
          "base_uri": "https://localhost:8080/"
        },
        "id": "T-5-wm2KbDGZ",
        "outputId": "abee0fee-1fa0-4f9e-c0fb-a241386244e1"
      },
      "execution_count": null,
      "outputs": [
        {
          "output_type": "stream",
          "name": "stdout",
          "text": [
            "71/71 [==============================] - 0s 4ms/step\n",
            "(46,)\n",
            "0.9999999\n",
            "4\n"
          ]
        }
      ]
    },
    {
      "cell_type": "code",
      "source": [
        "SampleNum = 2125\n",
        "\n",
        "print(decoded_news(SampleNum),\"\\n\", test_labels[SampleNum], decoded_labels[test_labels[SampleNum]])\n",
        "print(predictions[SampleNum].argsort()[-3:][::-1])  # Get the top 3 classes\n",
        "\n",
        "test_labels[SampleNum] in predictions[SampleNum].argsort()[-3:][::-1] # check if test label is in predicted labels"
      ],
      "metadata": {
        "colab": {
          "base_uri": "https://localhost:8080/"
        },
        "id": "_RSx0EV2bdQ-",
        "outputId": "9d8f31c5-023a-4dd3-f347-4bd12823e864"
      },
      "execution_count": null,
      "outputs": [
        {
          "output_type": "stream",
          "name": "stdout",
          "text": [
            "? shr two cts vs one ct net 42 000 vs 26 000 sales 15 6 mln vs 15 2 mln note 1987 net includes gain 63 000 dlrs from change in pension accounting reuter 3 \n",
            " 6 copper\n",
            "[ 4  3 19]\n"
          ]
        },
        {
          "output_type": "execute_result",
          "data": {
            "text/plain": [
              "False"
            ]
          },
          "metadata": {},
          "execution_count": 22
        }
      ]
    },
    {
      "cell_type": "code",
      "source": [
        "# Create a top 3 matrix\n",
        "\n",
        "Top3Preds = np.zeros((2246,3), dtype=int)\n",
        "print(Top3Preds.shape)\n",
        "\n",
        "for SampleNum in range(predictions.shape[0]):\n",
        "    Top3Preds[SampleNum] = predictions[SampleNum].argsort()[-3:][::-1]\n",
        "\n",
        "Top3Preds"
      ],
      "metadata": {
        "id": "vKriTH7ubdl6",
        "colab": {
          "base_uri": "https://localhost:8080/"
        },
        "outputId": "4e9dd6e9-5b70-4259-9afd-8e84e7daed44"
      },
      "execution_count": null,
      "outputs": [
        {
          "output_type": "stream",
          "name": "stdout",
          "text": [
            "(2246, 3)\n"
          ]
        },
        {
          "output_type": "execute_result",
          "data": {
            "text/plain": [
              "array([[ 3,  4, 16],\n",
              "       [ 1, 10,  2],\n",
              "       [ 1, 13, 10],\n",
              "       ...,\n",
              "       [ 3,  4, 20],\n",
              "       [ 3,  4, 16],\n",
              "       [ 1, 13, 10]])"
            ]
          },
          "metadata": {},
          "execution_count": 23
        }
      ]
    },
    {
      "cell_type": "code",
      "source": [
        "# Modify the raw final_predictions - prediction probs into 0 and 1 for the confusion matrix\n",
        "\n",
        "FinalPreds = np.zeros((2246,1), dtype=int)\n",
        "print(FinalPreds.shape)\n",
        "\n",
        "for SampleNum in range(Top3Preds.shape[0]):\n",
        "    if test_labels[SampleNum] in Top3Preds[SampleNum]:\n",
        "        FinalPreds[SampleNum] = 1\n",
        "\n",
        "FinalPreds"
      ],
      "metadata": {
        "colab": {
          "base_uri": "https://localhost:8080/"
        },
        "id": "LEpdiQeakzCK",
        "outputId": "44ac666e-490e-4913-d683-d7a781c246b9"
      },
      "execution_count": null,
      "outputs": [
        {
          "output_type": "stream",
          "name": "stdout",
          "text": [
            "(2246, 1)\n"
          ]
        },
        {
          "output_type": "execute_result",
          "data": {
            "text/plain": [
              "array([[1],\n",
              "       [1],\n",
              "       [1],\n",
              "       ...,\n",
              "       [1],\n",
              "       [1],\n",
              "       [0]])"
            ]
          },
          "metadata": {},
          "execution_count": 24
        }
      ]
    },
    {
      "cell_type": "code",
      "source": [
        "FinalPreds = pd.DataFrame(FinalPreds)\n",
        "NumTop3 = FinalPreds[0][FinalPreds[0] == 1].count()\n",
        "percentTop3 = round(100 *NumTop3 / FinalPreds.shape[0], 1)\n",
        "\n",
        "print('Percent of one from top 3 being correct ... ', percentTop3, '%')"
      ],
      "metadata": {
        "colab": {
          "base_uri": "https://localhost:8080/"
        },
        "id": "uPAY-3K6k0vj",
        "outputId": "6060e1e6-84b1-4189-8b71-cf4af55bdb6d"
      },
      "execution_count": null,
      "outputs": [
        {
          "output_type": "stream",
          "name": "stdout",
          "text": [
            "Percent of one from top 3 being correct ...  80.5 %\n"
          ]
        }
      ]
    },
    {
      "cell_type": "code",
      "source": [
        "gc.collect()"
      ],
      "metadata": {
        "colab": {
          "base_uri": "https://localhost:8080/"
        },
        "id": "QEkp8xX3k2B1",
        "outputId": "df3de3f5-8b6f-4a63-e04d-abe0b39a05da"
      },
      "execution_count": null,
      "outputs": [
        {
          "output_type": "execute_result",
          "data": {
            "text/plain": [
              "18631"
            ]
          },
          "metadata": {},
          "execution_count": 26
        }
      ]
    },
    {
      "cell_type": "code",
      "source": [],
      "metadata": {
        "id": "tohUaQkjBFkh"
      },
      "execution_count": null,
      "outputs": []
    }
  ]
}